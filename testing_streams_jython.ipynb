{
 "cells": [
  {
   "cell_type": "code",
   "execution_count": 27,
   "metadata": {},
   "outputs": [
    {
     "name": "stdout",
     "output_type": "stream",
     "text": [
      "\n",
      "exec(u'from java.util.stream import Stream\\nfrom java.util.function import Predicate\\nfrom java.util.stream.Collectors import toList\\nfrom java.lang.Math import sqrt\\nfrom java.util.function import Function')\n"
     ]
    }
   ],
   "source": [
    "from java.util.stream import Stream\n",
    "from java.util.function import Predicate\n",
    "from java.util.stream.Collectors import toList\n",
    "from java.lang.Math import sqrt\n",
    "from java.util.function import Function"
   ]
  },
  {
   "cell_type": "code",
   "execution_count": 28,
   "metadata": {},
   "outputs": [
    {
     "name": "stdout",
     "output_type": "stream",
     "text": [
      "\n"
     ]
    }
   ],
   "source": [
    "import datetime\n",
    "import functools"
   ]
  },
  {
   "cell_type": "code",
   "execution_count": 58,
   "metadata": {},
   "outputs": [
    {
     "name": "stdout",
     "output_type": "stream",
     "text": [
      "\n"
     ]
    }
   ],
   "source": [
    "class make_predicate(Predicate): #the function passed to filter method should be of type predicate\n",
    "    def __init__(self,fn):\n",
    "        self.test=fn"
   ]
  },
  {
   "cell_type": "code",
   "execution_count": 59,
   "metadata": {},
   "outputs": [
    {
     "name": "stdout",
     "output_type": "stream",
     "text": [
      "\n"
     ]
    }
   ],
   "source": [
    "def timeit(func,nloops): #conviniene function to calculate time taken to run a function\n",
    "    count=0\n",
    "    total_time=0\n",
    "    for i in range(nloops):\n",
    "        t1=datetime.datetime.now()\n",
    "        func()\n",
    "        total_time+=(datetime.datetime.now()-t1).total_seconds()\n",
    "        count+=1\n",
    "    return \"average of {} loops {} seconds\".format(nloops,total_time/count)"
   ]
  },
  {
   "cell_type": "markdown",
   "metadata": {},
   "source": [
    "# Filtering even numbers\n",
    "### find even numbers upto a number"
   ]
  },
  {
   "cell_type": "code",
   "execution_count": 20,
   "metadata": {},
   "outputs": [
    {
     "name": "stdout",
     "output_type": "stream",
     "text": [
      "\n"
     ]
    }
   ],
   "source": [
    "def filter_serial():\n",
    "    [i for i in a if i%2==0]\n",
    "\n",
    "fil_fn=make_predicate(lambda x: x%2==0)\n",
    "\n",
    "def filter_stream(): \n",
    "    a.stream().filter(fil_fn).collect(toList())\n",
    "\n",
    "def filter_stream_parallel():\n",
    "    a.stream().parallel().filter(fil_fn).collect(toList())"
   ]
  },
  {
   "cell_type": "code",
   "execution_count": 6,
   "metadata": {},
   "outputs": [
    {
     "name": "stdout",
     "output_type": "stream",
     "text": [
      "3D [dev] 1.6.0-pre12-daily-experimental daily\n",
      "\n"
     ]
    }
   ],
   "source": [
    "a=ArrayList(range(0,10000000))"
   ]
  },
  {
   "cell_type": "code",
   "execution_count": 17,
   "metadata": {},
   "outputs": [
    {
     "name": "stdout",
     "output_type": "stream",
     "text": [
      "'average of 5 loops 5.8802 seconds'\n"
     ]
    }
   ],
   "source": [
    "timeit(filter_serial,5)"
   ]
  },
  {
   "cell_type": "code",
   "execution_count": 18,
   "metadata": {},
   "outputs": [
    {
     "name": "stdout",
     "output_type": "stream",
     "text": [
      "'average of 5 loops 3.2482 seconds'\n"
     ]
    }
   ],
   "source": [
    "timeit(filter_stream,5)"
   ]
  },
  {
   "cell_type": "code",
   "execution_count": 21,
   "metadata": {},
   "outputs": [
    {
     "name": "stdout",
     "output_type": "stream",
     "text": [
      "'average of 5 loops 2.2908 seconds'\n"
     ]
    }
   ],
   "source": [
    "timeit(filter_stream_parallel,5)"
   ]
  },
  {
   "cell_type": "markdown",
   "metadata": {},
   "source": [
    "#### that was good speed up, it depends on size of array for smaller array sizes the overhead in paralleling shows up."
   ]
  },
  {
   "cell_type": "markdown",
   "metadata": {},
   "source": [
    "# Filtering prime numbers\n",
    "#### find prime numbers upto a number "
   ]
  },
  {
   "cell_type": "code",
   "execution_count": 45,
   "metadata": {},
   "outputs": [
    {
     "name": "stdout",
     "output_type": "stream",
     "text": [
      "\n"
     ]
    }
   ],
   "source": [
    "a=ArrayList(range(0,100000))"
   ]
  },
  {
   "cell_type": "code",
   "execution_count": 46,
   "metadata": {},
   "outputs": [
    {
     "name": "stdout",
     "output_type": "stream",
     "text": [
      "\n"
     ]
    }
   ],
   "source": [
    "def check_prime(num):\n",
    "    for i in range(2,int(sqrt(num))+1): \n",
    "        if num%i==0:\n",
    "            return False \n",
    "    return True"
   ]
  },
  {
   "cell_type": "code",
   "execution_count": 47,
   "metadata": {},
   "outputs": [
    {
     "name": "stdout",
     "output_type": "stream",
     "text": [
      "\n"
     ]
    }
   ],
   "source": [
    "def filter_serial():\n",
    "    [i for i in a if check_prime(i)]\n",
    "\n",
    "prime_fn=make_predicate(check_prime)\n",
    "\n",
    "def filter_stream():\n",
    "    a.stream().filter(prime_fn).collect(toList())\n",
    "\n",
    "def filter_stream_parallel():\n",
    "    a.stream().parallel().filter(prime_fn).collect(toList())"
   ]
  },
  {
   "cell_type": "code",
   "execution_count": 56,
   "metadata": {},
   "outputs": [
    {
     "name": "stdout",
     "output_type": "stream",
     "text": [
      "'average of 100 loops 0.56169 seconds'\n"
     ]
    }
   ],
   "source": [
    "timeit(filter_serial,100)"
   ]
  },
  {
   "cell_type": "code",
   "execution_count": 57,
   "metadata": {},
   "outputs": [
    {
     "name": "stdout",
     "output_type": "stream",
     "text": [
      "'average of 100 loops 0.52453 seconds'\n"
     ]
    }
   ],
   "source": [
    "timeit(filter_stream,100)"
   ]
  },
  {
   "cell_type": "code",
   "execution_count": 55,
   "metadata": {},
   "outputs": [
    {
     "name": "stdout",
     "output_type": "stream",
     "text": [
      "'average of 100 loops 0.35167 seconds'\n"
     ]
    }
   ],
   "source": [
    "timeit(filter_stream_parallel,100)"
   ]
  },
  {
   "cell_type": "code",
   "execution_count": null,
   "metadata": {},
   "outputs": [],
   "source": []
  }
 ],
 "metadata": {
  "kernelspec": {
   "display_name": "IDV",
   "language": "python",
   "name": "jyidv_kernel"
  },
  "language_info": {
   "codemirror_mode": {
    "name": "text/x-python",
    "version": 2
   },
   "file_extension": ".py",
   "help_links": [
    {
     "text": "Jython",
     "url": "www.jython.org"
    },
    {
     "text": "Jython Kernel Help",
     "url": "https://github.com/suvarchal/IJython"
    }
   ],
   "mimetype": "text/x-python",
   "name": "jython",
   "pygments_lexer": "python"
  }
 },
 "nbformat": 4,
 "nbformat_minor": 2
}
